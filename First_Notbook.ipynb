{
 "cells": [
  {
   "cell_type": "code",
   "execution_count": 2,
   "metadata": {},
   "outputs": [],
   "source": [
    "import pandas as pd\n",
    "from bs4 import BeautifulSoup as bs\n",
    "from urllib.request import urlopen\n"
   ]
  },
  {
   "cell_type": "code",
   "execution_count": 17,
   "metadata": {},
   "outputs": [
    {
     "name": "stdout",
     "output_type": "stream",
     "text": [
      "[\"Ayant réservé le matin pour 13h00 afin de participer à une réunion dans le château voisin à 14h00, nous ne sommes arrivés qu'à 13h30 compte tenu du trafic routier ! Malgré cela le personnel, que nous avions prévenu de notre retard, a fait l'impossible pour...Plus\", \"Très très bon . produits exemplaires\\nPrix en adéquation avec la qualité mais des serviettes en papier !!!la qualité du restaurant et vu le prix on mérite d'avoir des serviettes en tissu dommage !\", \"Cadre agréable avec un coin terrasse pour les jours de soleil ,accueil chaleureux et personnel agréable, à l'écoute du client.\\nCuisine raffinée et variée.\\nUne adresse à mettre dans son carnet et à recommandé.\", \"Ne paye pas de mine de l'exterieur, mais salle moderne et grande.\\nService accueillant et chaleureux.\\nL'intitulé des plats inquiète : cremeux pastis, puree coco, etc. Au final, des plats classiques sans extravagence. Les saveurs qui pourraient faire peur n'y sont pas. Deception sur la...Plus\", 'On ne s imagine pas de l extérieur tomber sur une grande salle moderne. Un bon acceuil et dîner de bonne qualité bien présenté.', \"Nous y avons déjeuné le dimanche de Pâques, c'était complet. Nous avons très bien mangé et le personnel était très agréable. Nous avons beaucoup ri. Nous reviendrons certainement\", 'Plats de qualité, service aussi, le tout dans un cadre très sympa, nous reviendrons. Le rapport qualité prix est honnête.', 'Très bon mais prix un peu élevé pour la prestation. Décoration du restaurant à rafraîchir. Accueil agréable.', 'Un voyage culinaire!\\nOu comment sublimer des aliments par de savoureux mélanges de saveur.\\nLa cuisine est un art!!! Bravo\\nMerci David et Lucas pour votre accueil et votre service à la hauteur de votre gastronomie\\nÀ très vite', \"Nous sommes venus déjeuner dimanche midi en famille. Avons pris le menu à 27€. Il est correct et les plats sont bons. Seul gros bémol un prix de 16€ pour un menu enfant avec 3 nuggets, frites et une glace, c'est vraiment un peu trop...Plus\"]\n"
     ]
    }
   ],
   "source": [
    "import re\n",
    "url = 'https://www.tripadvisor.fr/Restaurant_Review-g1078666-d3958426-Reviews-Le_Clos_du_Chateau-Champs_sur_Marne_Marne_la_Vallee_Seine_et_Marne_Ile_de_France.html#REVIEWS'\n",
    "raw = urlopen(url).read() #récupération des données brutes du site\n",
    "\n",
    "soup = bs(raw, 'lxml') #récupérer toutes les données en format soup\n",
    "\n",
    "result = []\n",
    "#print(soup)\n",
    "for data in soup.findAll('p', {'class':'partial_entry'}):\n",
    "    try:\n",
    "        result.append(data.text)\n",
    "    except:\n",
    "        pass\n",
    "\n",
    "print(result)"
   ]
  },
  {
   "cell_type": "code",
   "execution_count": 18,
   "metadata": {},
   "outputs": [
    {
     "ename": "NameError",
     "evalue": "name 'authors' is not defined",
     "output_type": "error",
     "traceback": [
      "\u001b[1;31m---------------------------------------------------------------------------\u001b[0m",
      "\u001b[1;31mNameError\u001b[0m                                 Traceback (most recent call last)",
      "\u001b[1;32m<ipython-input-18-543d2e80983a>\u001b[0m in \u001b[0;36m<module>\u001b[1;34m()\u001b[0m\n\u001b[1;32m----> 1\u001b[1;33m \u001b[0mtab_comment\u001b[0m\u001b[1;33m=\u001b[0m\u001b[0mpd\u001b[0m\u001b[1;33m.\u001b[0m\u001b[0mDataFrame\u001b[0m\u001b[1;33m(\u001b[0m\u001b[1;33m{\u001b[0m\u001b[1;34m'author'\u001b[0m \u001b[1;33m:\u001b[0m \u001b[0mauthors\u001b[0m\u001b[1;33m,\u001b[0m \u001b[1;34m'content'\u001b[0m \u001b[1;33m:\u001b[0m \u001b[0mcontents\u001b[0m\u001b[1;33m}\u001b[0m\u001b[1;33m)\u001b[0m\u001b[1;33m\u001b[0m\u001b[0m\n\u001b[0m\u001b[0;32m      2\u001b[0m \u001b[0mtab_comment\u001b[0m\u001b[1;33m[\u001b[0m\u001b[1;34m'dates'\u001b[0m\u001b[1;33m]\u001b[0m \u001b[1;33m=\u001b[0m \u001b[0mtab_comment\u001b[0m\u001b[1;33m[\u001b[0m\u001b[1;34m'author'\u001b[0m\u001b[1;33m]\u001b[0m\u001b[1;33m.\u001b[0m\u001b[0mstr\u001b[0m\u001b[1;33m.\u001b[0m\u001b[0mextract\u001b[0m\u001b[1;33m(\u001b[0m\u001b[1;34m'(\\d{2}/\\d{2}/\\d{4})'\u001b[0m\u001b[1;33m)\u001b[0m \u001b[1;31m#on extrait la date qui était avec auteur\u001b[0m\u001b[1;33m\u001b[0m\u001b[0m\n\u001b[0;32m      3\u001b[0m \u001b[0mtab_comment\u001b[0m\u001b[1;33m[\u001b[0m\u001b[1;34m'author'\u001b[0m\u001b[1;33m]\u001b[0m \u001b[1;33m=\u001b[0m \u001b[0mtab_comment\u001b[0m\u001b[1;33m[\u001b[0m\u001b[1;34m'author'\u001b[0m\u001b[1;33m]\u001b[0m\u001b[1;33m.\u001b[0m\u001b[0mstr\u001b[0m\u001b[1;33m.\u001b[0m\u001b[0mreplace\u001b[0m\u001b[1;33m(\u001b[0m\u001b[1;34m'le|-|\\d{2}/\\d{2}/\\d{4}'\u001b[0m\u001b[1;33m,\u001b[0m \u001b[1;34m''\u001b[0m\u001b[1;33m)\u001b[0m \u001b[1;31m#on crée la colonne dates\u001b[0m\u001b[1;33m\u001b[0m\u001b[0m\n\u001b[0;32m      4\u001b[0m \u001b[1;33m\u001b[0m\u001b[0m\n\u001b[0;32m      5\u001b[0m \u001b[0mtab_comment\u001b[0m\u001b[1;33m\u001b[0m\u001b[0m\n",
      "\u001b[1;31mNameError\u001b[0m: name 'authors' is not defined"
     ]
    }
   ],
   "source": [
    "tab_comment=pd.DataFrame({'author' : authors, 'content' : contents})\n",
    "tab_comment['dates'] = tab_comment['author'].str.extract('(\\d{2}/\\d{2}/\\d{4})') #on extrait la date qui était avec auteur\n",
    "tab_comment['author'] = tab_comment['author'].str.replace('le|-|\\d{2}/\\d{2}/\\d{4}', '') #on crée la colonne dates\n",
    "\n",
    "tab_comment"
   ]
  },
  {
   "cell_type": "code",
   "execution_count": null,
   "metadata": {},
   "outputs": [],
   "source": []
  }
 ],
 "metadata": {
  "kernelspec": {
   "display_name": "Python 3",
   "language": "python",
   "name": "python3"
  },
  "language_info": {
   "codemirror_mode": {
    "name": "ipython",
    "version": 3
   },
   "file_extension": ".py",
   "mimetype": "text/x-python",
   "name": "python",
   "nbconvert_exporter": "python",
   "pygments_lexer": "ipython3",
   "version": "3.6.4"
  }
 },
 "nbformat": 4,
 "nbformat_minor": 2
}
